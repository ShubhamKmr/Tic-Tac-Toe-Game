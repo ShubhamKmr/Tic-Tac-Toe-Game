{
 "cells": [
  {
   "cell_type": "markdown",
   "metadata": {},
   "source": [
    "# MultiPlayer Tic Tac Toe game try it . It's fun..:--) \n",
    "Just Run all the cells once before playing... ;-D"
   ]
  },
  {
   "cell_type": "raw",
   "metadata": {},
   "source": [
    "Setting up the board as a list, where each index (1-9) corresponds with a number on a number pad of mobile phone,so we get a 3 by 3 board representation.Just memorize the following pattern as you will fill your choice accordingly...  \n",
    " 7 | 8 | 9\n",
    "-----------\n",
    " 4 | 5 | 6\n",
    "-----------\n",
    " 1 | 2 | 3"
   ]
  },
  {
   "cell_type": "code",
   "execution_count": 1,
   "metadata": {
    "collapsed": true
   },
   "outputs": [],
   "source": [
    "#This function print's out a board.\n",
    "from IPython.display import clear_output\n",
    "def display_board(board):\n",
    "    clear_output()\n",
    "    print(board[7]+'|'+board[8]+'|'+board[9])\n",
    "    print('-|-|-')\n",
    "    print(board[4]+'|'+board[5]+'|'+board[6])\n",
    "    print('-|-|-')\n",
    "    print(board[1]+'|'+board[2]+'|'+board[3])"
   ]
  },
  {
   "cell_type": "code",
   "execution_count": 2,
   "metadata": {
    "collapsed": true
   },
   "outputs": [],
   "source": [
    "#This functions return a clear and fresh board. B-)\n",
    "def clean_board(board):\n",
    "    board = ['$',' ',' ',' ',' ',' ',' ',' ',' ',' ']\n",
    "    return board"
   ]
  },
  {
   "cell_type": "code",
   "execution_count": 3,
   "metadata": {
    "collapsed": true
   },
   "outputs": [],
   "source": [
    "#This function takes in a players input and assign their marker as 'X' or 'O'.\n",
    "def player_input(Player):\n",
    "    player1 = player2 = marker = ' '\n",
    "    while marker.upper()!='X' and marker.upper()!='O':\n",
    "        marker = input('{} choose X or O'.format(Player))\n",
    "    return marker.upper()"
   ]
  },
  {
   "cell_type": "code",
   "execution_count": 4,
   "metadata": {},
   "outputs": [],
   "source": [
    "'''\n",
    "this function takes in the board list object, a marker ('X' or 'O'), and a desired position (number 1-9) and assigns it to the \n",
    "board.  :-)\n",
    "'''\n",
    "def place_marker(board, marker, position):\n",
    "    test_board[position] = marker"
   ]
  },
  {
   "cell_type": "code",
   "execution_count": 5,
   "metadata": {
    "collapsed": true
   },
   "outputs": [],
   "source": [
    "#This function that takes in the board and mark (X or O) and then checks to see if that mark has won. #:-D\n",
    "def win_check(board, mark):\n",
    "    if board[1]==board[2]==board[3]==mark or board[4]==board[5]==board[6]==mark or board[7]==board[8]==board[9]==mark or board[1]==board[4]==board[7]==mark or board[2]==board[5]==board[8]==mark or board[3]==board[6]==board[9]==mark or board[1]==board[5]==board[9]==mark or board[3]==board[5]==board[7]==mark:\n",
    "        print('Yeah',mark,'has WON!!')\n",
    "        return False\n",
    "    else:\n",
    "        return True"
   ]
  },
  {
   "cell_type": "code",
   "execution_count": 6,
   "metadata": {
    "collapsed": true
   },
   "outputs": [],
   "source": [
    "#This function that uses the random module to randomly decide which player goes first.\n",
    "import random\n",
    "def choose_first():\n",
    "    output = random.randint(1,2)\n",
    "    if output==1:\n",
    "        return 'Player1'\n",
    "    else:\n",
    "        return 'Player2'"
   ]
  },
  {
   "cell_type": "code",
   "execution_count": 7,
   "metadata": {
    "collapsed": true
   },
   "outputs": [],
   "source": [
    "#This function that returns a boolean indicating whether a space on the board is freely available or not.\n",
    "def space_check(board, position):\n",
    "    return board[position] == ' '"
   ]
  },
  {
   "cell_type": "code",
   "execution_count": 8,
   "metadata": {
    "collapsed": true
   },
   "outputs": [],
   "source": [
    "#This function checks if the board is full or not and returns a boolean value.\n",
    "def full_board_check(board):\n",
    "    index=0\n",
    "    for i in board:\n",
    "        if i == ' ':\n",
    "            return False \n",
    "        elif index==len(board)-1:\n",
    "            return True\n",
    "        else:\n",
    "            index += 1\n",
    "            continue"
   ]
  },
  {
   "cell_type": "code",
   "execution_count": 9,
   "metadata": {
    "collapsed": true
   },
   "outputs": [],
   "source": [
    "'''\n",
    "This function that asks for a player's next position (as a number 1-9) and then uses the function space_check() to check if it\n",
    "is a free position.If it is, then return the position for later use.  ;-D\n",
    "'''\n",
    "def player_choice(board,side):\n",
    "    position = int(input('{} enter the position(1-9) at which you want fix your symbol'.format(side)))\n",
    "    if 1 <= position <=9:\n",
    "        catch = space_check(board, position)\n",
    "        if catch:\n",
    "            return position\n",
    "        else:\n",
    "            print('Already been maked!')\n",
    "            return -1\n",
    "    else:\n",
    "        print('You have entered the wrong key!!')\n",
    "        return -1"
   ]
  },
  {
   "cell_type": "code",
   "execution_count": 10,
   "metadata": {
    "collapsed": true
   },
   "outputs": [],
   "source": [
    "#This function asks the player if they want to play again and returns a boolean True if they do want to play again.\n",
    "def replay():\n",
    "    play_again = input('Press Y to play again or N to discontinue')\n",
    "    return play_again.lower() == 'y'"
   ]
  },
  {
   "cell_type": "code",
   "execution_count": 12,
   "metadata": {},
   "outputs": [
    {
     "name": "stdout",
     "output_type": "stream",
     "text": [
      "O| |X\n",
      "-|-|-\n",
      " |O|X\n",
      "-|-|-\n",
      "X|O|X\n",
      "Yeah X has WON!!\n",
      "Hope You Enjoyed #;-)\n"
     ]
    }
   ],
   "source": [
    "#Here comes the hard part! Using while loops and the functions to run the game!\n",
    "print('Welcome to Tic Tac Toe!')\n",
    "win=True\n",
    "while win:\n",
    "    symbol=first=second=Player = ' '\n",
    "    test_board = ['$',' ',' ',' ',' ',' ',' ',' ',' ',' ']\n",
    "    chance_check = 0\n",
    "    win=True\n",
    "    Player = choose_first()\n",
    "    first = player_input(Player)\n",
    "    if first=='X':\n",
    "        symbol=first\n",
    "        second='O'\n",
    "    else:\n",
    "        symbol=first\n",
    "        second='X'\n",
    "    test_board = clean_board(test_board)\n",
    "    display_board(test_board)\n",
    "    while win:\n",
    "        board_check = full_board_check(test_board)\n",
    "        if not board_check:\n",
    "            position = player_choice(test_board,symbol)\n",
    "            if position != -1:\n",
    "                if chance_check%2==0:\n",
    "                    place_marker(test_board,symbol,position)\n",
    "                    display_board(test_board)\n",
    "                    win = win_check(test_board,symbol)\n",
    "                    symbol=second\n",
    "                else:\n",
    "                    place_marker(test_board,symbol,position)\n",
    "                    display_board(test_board)\n",
    "                    win = win_check(test_board,symbol)\n",
    "                    symbol=first\n",
    "                chance_check += 1\n",
    "            else:\n",
    "                continue\n",
    "        else:\n",
    "            win = replay()\n",
    "            if win:\n",
    "                test_board = clean_board(test_board)\n",
    "                break\n",
    "print(\"Hope You Enjoyed #;-)\")                "
   ]
  },
  {
   "cell_type": "code",
   "execution_count": null,
   "metadata": {
    "collapsed": true
   },
   "outputs": [],
   "source": []
  }
 ],
 "metadata": {
  "kernelspec": {
   "display_name": "Python 3",
   "language": "python",
   "name": "python3"
  },
  "language_info": {
   "codemirror_mode": {
    "name": "ipython",
    "version": 3
   },
   "file_extension": ".py",
   "mimetype": "text/x-python",
   "name": "python",
   "nbconvert_exporter": "python",
   "pygments_lexer": "ipython3",
   "version": "3.6.3"
  }
 },
 "nbformat": 4,
 "nbformat_minor": 2
}
